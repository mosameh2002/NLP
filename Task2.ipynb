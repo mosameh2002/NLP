{
 "cells": [
  {
   "cell_type": "code",
   "execution_count": 3,
   "id": "ae334e04",
   "metadata": {},
   "outputs": [
    {
     "name": "stdout",
     "output_type": "stream",
     "text": [
      "Requirement already satisfied: numpy==1.23.5 in d:\\aast\\cai apps\\anaconda\\lib\\site-packages (1.23.5)\n"
     ]
    }
   ],
   "source": [
    "!pip install numpy==1.23.5"
   ]
  },
  {
   "cell_type": "code",
   "execution_count": 4,
   "id": "f752599a",
   "metadata": {},
   "outputs": [
    {
     "name": "stdout",
     "output_type": "stream",
     "text": [
      "Requirement already up-to-date: gensim in d:\\aast\\cai apps\\anaconda\\lib\\site-packages (4.3.3)\n",
      "Requirement already satisfied, skipping upgrade: numpy<2.0,>=1.18.5 in d:\\aast\\cai apps\\anaconda\\lib\\site-packages (from gensim) (1.23.5)\n",
      "Requirement already satisfied, skipping upgrade: smart-open>=1.8.1 in d:\\aast\\cai apps\\anaconda\\lib\\site-packages (from gensim) (7.1.0)\n",
      "Requirement already satisfied, skipping upgrade: scipy<1.14.0,>=1.7.0 in d:\\aast\\cai apps\\anaconda\\lib\\site-packages (from gensim) (1.10.1)\n",
      "Requirement already satisfied, skipping upgrade: wrapt in d:\\aast\\cai apps\\anaconda\\lib\\site-packages (from smart-open>=1.8.1->gensim) (1.11.2)\n"
     ]
    }
   ],
   "source": [
    "!pip install --upgrade gensim"
   ]
  },
  {
   "cell_type": "code",
   "execution_count": 5,
   "id": "135c8202",
   "metadata": {},
   "outputs": [
    {
     "name": "stderr",
     "output_type": "stream",
     "text": [
      "D:\\AAST\\CAI APPS\\Anaconda\\lib\\site-packages\\numpy\\_distributor_init.py:30: UserWarning: loaded more than 1 DLL from .libs:\n",
      "D:\\AAST\\CAI APPS\\Anaconda\\lib\\site-packages\\numpy\\.libs\\libopenblas.FB5AE2TYXYH2IJRDKGDGQ3XBKLKTF43H.gfortran-win_amd64.dll\n",
      "D:\\AAST\\CAI APPS\\Anaconda\\lib\\site-packages\\numpy\\.libs\\libopenblas.WCDJNK7YVMPZQ2ME2ZZHJJRJ3JIKNDB7.gfortran-win_amd64.dll\n",
      "D:\\AAST\\CAI APPS\\Anaconda\\lib\\site-packages\\numpy\\.libs\\libopenblas64__v0.3.21-gcc_10_3_0.dll\n",
      "  warnings.warn(\"loaded more than 1 DLL from .libs:\"\n",
      "D:\\AAST\\CAI APPS\\Anaconda\\lib\\site-packages\\requests\\__init__.py:89: RequestsDependencyWarning: urllib3 (2.2.3) or chardet (3.0.4) doesn't match a supported version!\n",
      "  warnings.warn(\"urllib3 ({}) or chardet ({}) doesn't match a supported \"\n"
     ]
    }
   ],
   "source": [
    "import gensim.downloader as api\n",
    "import numpy as np"
   ]
  },
  {
   "cell_type": "code",
   "execution_count": 6,
   "id": "7866399d",
   "metadata": {},
   "outputs": [
    {
     "name": "stdout",
     "output_type": "stream",
     "text": [
      "[==================================================] 100.0% 128.1/128.1MB downloaded\n"
     ]
    }
   ],
   "source": [
    "model=api.load('glove-wiki-gigaword-100')"
   ]
  },
  {
   "cell_type": "code",
   "execution_count": 7,
   "id": "2746bd47",
   "metadata": {},
   "outputs": [],
   "source": [
    "from gensim.models import KeyedVectors\n",
    "\n",
    "def cbow_predict(context_words, model, topn=5):\n",
    "    valid_vectors = [model[word] for word in context_words if word in model.key_to_index]\n",
    "    avg_vector = np.mean(valid_vectors, axis=0)\n",
    "    predictions = model.similar_by_vector(avg_vector, topn=topn)\n",
    "    predictions = [(word, score) for word, score in predictions if word not in context_words]\n",
    "    return predictions[:topn]"
   ]
  },
  {
   "cell_type": "code",
   "execution_count": 9,
   "id": "a6bfbcab",
   "metadata": {},
   "outputs": [],
   "source": [
    "def skipgram_predict(target_word, model, topn=5):\n",
    "    if target_word not in model.key_to_index:\n",
    "        return []\n",
    "    predictions = model.most_similar(target_word, topn=topn)\n",
    "    return predictions[:topn]"
   ]
  },
  {
   "cell_type": "code",
   "execution_count": 12,
   "id": "dfaa5c17",
   "metadata": {},
   "outputs": [
    {
     "name": "stdout",
     "output_type": "stream",
     "text": [
      "[('prince', 0.7682328820228577), ('queen', 0.7507690787315369), ('son', 0.7020888328552246), ('brother', 0.6985775232315063), ('monarch', 0.6977890729904175)]\n"
     ]
    }
   ],
   "source": [
    "print(skipgram_predict(\"king\", model))"
   ]
  },
  {
   "cell_type": "code",
   "execution_count": 13,
   "id": "1d53d81e",
   "metadata": {},
   "outputs": [
    {
     "name": "stdout",
     "output_type": "stream",
     "text": [
      "[('mother', 0.7827009558677673), ('daughter', 0.7684858441352844), ('father', 0.7659348845481873)]\n"
     ]
    }
   ],
   "source": [
    "print(cbow_predict([\"king\", \"queen\", \"woman\"], model))"
   ]
  },
  {
   "cell_type": "code",
   "execution_count": null,
   "id": "772ffb23",
   "metadata": {},
   "outputs": [],
   "source": []
  }
 ],
 "metadata": {
  "kernelspec": {
   "display_name": "Python 3",
   "language": "python",
   "name": "python3"
  },
  "language_info": {
   "codemirror_mode": {
    "name": "ipython",
    "version": 3
   },
   "file_extension": ".py",
   "mimetype": "text/x-python",
   "name": "python",
   "nbconvert_exporter": "python",
   "pygments_lexer": "ipython3",
   "version": "3.8.5"
  }
 },
 "nbformat": 4,
 "nbformat_minor": 5
}
